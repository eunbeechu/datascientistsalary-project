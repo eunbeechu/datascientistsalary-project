{
  "nbformat": 4,
  "nbformat_minor": 0,
  "metadata": {
    "colab": {
      "provenance": []
    },
    "kernelspec": {
      "name": "ir",
      "display_name": "R"
    },
    "language_info": {
      "name": "R"
    }
  },
  "cells": [
    {
      "cell_type": "markdown",
      "source": [
        "# **Data Analysis Project**\n",
        "#### By. Eunbee Chu"
      ],
      "metadata": {
        "id": "Cb-d3x-_2Hpj"
      }
    },
    {
      "cell_type": "markdown",
      "source": [
        "## ***Introduction***\n",
        "\n",
        "With the strong interest in the Data Science field, this project is intended to observe the distribution of salaries in Data Science jobs depending on attributes listed in dataset and to identify trends.\n",
        "\n",
        "\n"
      ],
      "metadata": {
        "id": "HCtoh5dg9OQw"
      }
    },
    {
      "cell_type": "markdown",
      "source": [
        "## ***Summary***\n",
        "\n"
      ],
      "metadata": {
        "id": "sCZXodQah0Ia"
      }
    },
    {
      "cell_type": "markdown",
      "source": [
        "https://docs.google.com/document/d/1BlZTb3kjR8FXJh_LL-x3Ib9OjKMmqbnhG4prg8HKej4/edit?usp=sharing"
      ],
      "metadata": {
        "id": "IZDNkt1EiHuA"
      }
    },
    {
      "cell_type": "markdown",
      "source": [
        "## ***Data Cleaning***\n",
        "\n",
        "https://docs.google.com/document/d/1t6qkQJRq4X55--vrYrV1l8WpsEn3d1tEr66ES-Mba0I/edit?usp=sharing"
      ],
      "metadata": {
        "id": "cmF5Q4GMMCe_"
      }
    },
    {
      "cell_type": "markdown",
      "source": [
        "## ***Preparation***\n",
        "\n",
        "Before we begin, let's load the dataset first. The original dataset is called \"ds_salaries.csv\" and the data is from Kaggle. This data explores the salaries of different data science fields in the data science domain. The source is (https://www.kaggle.com/datasets/arnabchaki/data-science-salaries-2023).\n",
        "\n",
        "However, we're going to used the cleaned data instead of the original one. The file name is \"ds_salaries - cleaned.csv\" and can be downloaded from the canvas submission page."
      ],
      "metadata": {
        "id": "K8RxzH4d3h6B"
      }
    },
    {
      "cell_type": "code",
      "execution_count": 153,
      "metadata": {
        "id": "t9zW5D2-N_Zj"
      },
      "outputs": [],
      "source": [
        "salarydata = read.csv(\"ds_salaries - cleaned.csv\")"
      ]
    },
    {
      "cell_type": "markdown",
      "source": [
        "Then we're going to load packages needed for the analysis."
      ],
      "metadata": {
        "id": "uE5DtZvzMrQs"
      }
    },
    {
      "cell_type": "code",
      "source": [
        "library(tidyverse)"
      ],
      "metadata": {
        "id": "cTSGGXWNVQdw"
      },
      "execution_count": 154,
      "outputs": []
    },
    {
      "cell_type": "code",
      "source": [
        "library(ggplot2)"
      ],
      "metadata": {
        "id": "AlcjETxaVSRL"
      },
      "execution_count": 155,
      "outputs": []
    },
    {
      "cell_type": "code",
      "source": [
        "library(dplyr)"
      ],
      "metadata": {
        "id": "VdsRjbTevX9B"
      },
      "execution_count": 156,
      "outputs": []
    },
    {
      "cell_type": "code",
      "source": [
        "library(tidyr)"
      ],
      "metadata": {
        "id": "3Oj-Bl9GfmHE"
      },
      "execution_count": 157,
      "outputs": []
    },
    {
      "cell_type": "code",
      "source": [
        "head(salarydata)"
      ],
      "metadata": {
        "colab": {
          "base_uri": "https://localhost:8080/",
          "height": 303
        },
        "id": "G4qjJiZtPsQj",
        "outputId": "d8955bc5-972d-4c36-d1e7-a35107e8c91a"
      },
      "execution_count": 158,
      "outputs": [
        {
          "output_type": "display_data",
          "data": {
            "text/html": [
              "<table class=\"dataframe\">\n",
              "<caption>A data.frame: 6 × 11</caption>\n",
              "<thead>\n",
              "\t<tr><th></th><th scope=col>work_year</th><th scope=col>experience_level</th><th scope=col>job_title</th><th scope=col>salary</th><th scope=col>salary_currency</th><th scope=col>employment_type</th><th scope=col>salary_in_usd</th><th scope=col>employee_residence</th><th scope=col>remote_ratio</th><th scope=col>company_location</th><th scope=col>company_size</th></tr>\n",
              "\t<tr><th></th><th scope=col>&lt;int&gt;</th><th scope=col>&lt;chr&gt;</th><th scope=col>&lt;chr&gt;</th><th scope=col>&lt;int&gt;</th><th scope=col>&lt;chr&gt;</th><th scope=col>&lt;chr&gt;</th><th scope=col>&lt;int&gt;</th><th scope=col>&lt;chr&gt;</th><th scope=col>&lt;int&gt;</th><th scope=col>&lt;chr&gt;</th><th scope=col>&lt;chr&gt;</th></tr>\n",
              "</thead>\n",
              "<tbody>\n",
              "\t<tr><th scope=row>1</th><td>2023</td><td>SE</td><td>Principal Data Scientist</td><td> 80000</td><td>EUR</td><td>FT</td><td> 85847</td><td>ES</td><td>100</td><td>ES</td><td>L</td></tr>\n",
              "\t<tr><th scope=row>2</th><td>2023</td><td>MI</td><td>ML Engineer             </td><td> 30000</td><td>USD</td><td>CT</td><td> 30000</td><td>US</td><td>100</td><td>US</td><td>S</td></tr>\n",
              "\t<tr><th scope=row>3</th><td>2023</td><td>MI</td><td>ML Engineer             </td><td> 25500</td><td>USD</td><td>CT</td><td> 25500</td><td>US</td><td>100</td><td>US</td><td>S</td></tr>\n",
              "\t<tr><th scope=row>4</th><td>2023</td><td>SE</td><td>Data Scientist          </td><td>175000</td><td>USD</td><td>FT</td><td>175000</td><td>CA</td><td>100</td><td>CA</td><td>M</td></tr>\n",
              "\t<tr><th scope=row>5</th><td>2023</td><td>SE</td><td>Data Scientist          </td><td>120000</td><td>USD</td><td>FT</td><td>120000</td><td>CA</td><td>100</td><td>CA</td><td>M</td></tr>\n",
              "\t<tr><th scope=row>6</th><td>2023</td><td>SE</td><td>Applied Scientist       </td><td>222200</td><td>USD</td><td>FT</td><td>222200</td><td>US</td><td>  0</td><td>US</td><td>L</td></tr>\n",
              "</tbody>\n",
              "</table>\n"
            ],
            "text/markdown": "\nA data.frame: 6 × 11\n\n| <!--/--> | work_year &lt;int&gt; | experience_level &lt;chr&gt; | job_title &lt;chr&gt; | salary &lt;int&gt; | salary_currency &lt;chr&gt; | employment_type &lt;chr&gt; | salary_in_usd &lt;int&gt; | employee_residence &lt;chr&gt; | remote_ratio &lt;int&gt; | company_location &lt;chr&gt; | company_size &lt;chr&gt; |\n|---|---|---|---|---|---|---|---|---|---|---|---|\n| 1 | 2023 | SE | Principal Data Scientist |  80000 | EUR | FT |  85847 | ES | 100 | ES | L |\n| 2 | 2023 | MI | ML Engineer              |  30000 | USD | CT |  30000 | US | 100 | US | S |\n| 3 | 2023 | MI | ML Engineer              |  25500 | USD | CT |  25500 | US | 100 | US | S |\n| 4 | 2023 | SE | Data Scientist           | 175000 | USD | FT | 175000 | CA | 100 | CA | M |\n| 5 | 2023 | SE | Data Scientist           | 120000 | USD | FT | 120000 | CA | 100 | CA | M |\n| 6 | 2023 | SE | Applied Scientist        | 222200 | USD | FT | 222200 | US |   0 | US | L |\n\n",
            "text/latex": "A data.frame: 6 × 11\n\\begin{tabular}{r|lllllllllll}\n  & work\\_year & experience\\_level & job\\_title & salary & salary\\_currency & employment\\_type & salary\\_in\\_usd & employee\\_residence & remote\\_ratio & company\\_location & company\\_size\\\\\n  & <int> & <chr> & <chr> & <int> & <chr> & <chr> & <int> & <chr> & <int> & <chr> & <chr>\\\\\n\\hline\n\t1 & 2023 & SE & Principal Data Scientist &  80000 & EUR & FT &  85847 & ES & 100 & ES & L\\\\\n\t2 & 2023 & MI & ML Engineer              &  30000 & USD & CT &  30000 & US & 100 & US & S\\\\\n\t3 & 2023 & MI & ML Engineer              &  25500 & USD & CT &  25500 & US & 100 & US & S\\\\\n\t4 & 2023 & SE & Data Scientist           & 175000 & USD & FT & 175000 & CA & 100 & CA & M\\\\\n\t5 & 2023 & SE & Data Scientist           & 120000 & USD & FT & 120000 & CA & 100 & CA & M\\\\\n\t6 & 2023 & SE & Applied Scientist        & 222200 & USD & FT & 222200 & US &   0 & US & L\\\\\n\\end{tabular}\n",
            "text/plain": [
              "  work_year experience_level job_title                salary salary_currency\n",
              "1 2023      SE               Principal Data Scientist  80000 EUR            \n",
              "2 2023      MI               ML Engineer               30000 USD            \n",
              "3 2023      MI               ML Engineer               25500 USD            \n",
              "4 2023      SE               Data Scientist           175000 USD            \n",
              "5 2023      SE               Data Scientist           120000 USD            \n",
              "6 2023      SE               Applied Scientist        222200 USD            \n",
              "  employment_type salary_in_usd employee_residence remote_ratio\n",
              "1 FT               85847        ES                 100         \n",
              "2 CT               30000        US                 100         \n",
              "3 CT               25500        US                 100         \n",
              "4 FT              175000        CA                 100         \n",
              "5 FT              120000        CA                 100         \n",
              "6 FT              222200        US                   0         \n",
              "  company_location company_size\n",
              "1 ES               L           \n",
              "2 US               S           \n",
              "3 US               S           \n",
              "4 CA               M           \n",
              "5 CA               M           \n",
              "6 US               L           "
            ]
          },
          "metadata": {}
        }
      ]
    },
    {
      "cell_type": "markdown",
      "source": [
        "## ***Analysis & Discussion***"
      ],
      "metadata": {
        "id": "ljZHwhL-NAMA"
      }
    },
    {
      "cell_type": "markdown",
      "source": [
        "### **Experience Level**"
      ],
      "metadata": {
        "id": "0sR02XEGNDoB"
      }
    },
    {
      "cell_type": "code",
      "source": [
        "salarydata %>%\n",
        "  group_by(experience_level) %>%\n",
        "  summarize(\n",
        "    Mean_Salary = mean(salary_in_usd),\n",
        "    Median_Salary = median(salary_in_usd))"
      ],
      "metadata": {
        "colab": {
          "base_uri": "https://localhost:8080/",
          "height": 223
        },
        "id": "GxTpu6T9f2Co",
        "outputId": "ddded3da-dce4-4161-9f43-52f30d7b1690"
      },
      "execution_count": 159,
      "outputs": [
        {
          "output_type": "display_data",
          "data": {
            "text/html": [
              "<table class=\"dataframe\">\n",
              "<caption>A tibble: 4 × 3</caption>\n",
              "<thead>\n",
              "\t<tr><th scope=col>experience_level</th><th scope=col>Mean_Salary</th><th scope=col>Median_Salary</th></tr>\n",
              "\t<tr><th scope=col>&lt;chr&gt;</th><th scope=col>&lt;dbl&gt;</th><th scope=col>&lt;dbl&gt;</th></tr>\n",
              "</thead>\n",
              "<tbody>\n",
              "\t<tr><td>EN</td><td> 80145.56</td><td> 71907</td></tr>\n",
              "\t<tr><td>EX</td><td>194930.93</td><td>196000</td></tr>\n",
              "\t<tr><td>MI</td><td>105097.38</td><td>100000</td></tr>\n",
              "\t<tr><td>SE</td><td>153295.46</td><td>146115</td></tr>\n",
              "</tbody>\n",
              "</table>\n"
            ],
            "text/markdown": "\nA tibble: 4 × 3\n\n| experience_level &lt;chr&gt; | Mean_Salary &lt;dbl&gt; | Median_Salary &lt;dbl&gt; |\n|---|---|---|\n| EN |  80145.56 |  71907 |\n| EX | 194930.93 | 196000 |\n| MI | 105097.38 | 100000 |\n| SE | 153295.46 | 146115 |\n\n",
            "text/latex": "A tibble: 4 × 3\n\\begin{tabular}{lll}\n experience\\_level & Mean\\_Salary & Median\\_Salary\\\\\n <chr> & <dbl> & <dbl>\\\\\n\\hline\n\t EN &  80145.56 &  71907\\\\\n\t EX & 194930.93 & 196000\\\\\n\t MI & 105097.38 & 100000\\\\\n\t SE & 153295.46 & 146115\\\\\n\\end{tabular}\n",
            "text/plain": [
              "  experience_level Mean_Salary Median_Salary\n",
              "1 EN                80145.56    71907       \n",
              "2 EX               194930.93   196000       \n",
              "3 MI               105097.38   100000       \n",
              "4 SE               153295.46   146115       "
            ]
          },
          "metadata": {}
        }
      ]
    },
    {
      "cell_type": "markdown",
      "source": [
        "The chart above is the mean and median salary based on one’s experience level.\n",
        "\n",
        "The experience levels include EN - Entry level, MI - Mid/Intermediate level, SE - Senior, EX - Executive level.\n"
      ],
      "metadata": {
        "id": "0BbiYpXaNUlT"
      }
    },
    {
      "cell_type": "code",
      "source": [
        "salarydata$experience_level <- factor(salarydata$experience_level, levels = c(\"EN\", \"MI\", \"SE\", \"EX\"))\n",
        "avg_salary_by_level <- salarydata %>%\n",
        "  group_by(experience_level) %>%\n",
        "  summarise(Avg_Salary = mean(salary_in_usd))\n",
        "\n",
        "ggplot(avg_salary_by_level, aes(x = experience_level, y = Avg_Salary)) +\n",
        "  geom_bar(stat = \"identity\", fill = \"skyblue\", color = \"black\") +\n",
        "  labs(x = \"Experience Level\", y = \"Average Salary\", title = \"Average Salary by Experience Level\") +\n",
        "  theme(axis.text.x = element_text(angle = 45, hjust = 1))"
      ],
      "metadata": {
        "colab": {
          "base_uri": "https://localhost:8080/",
          "height": 437
        },
        "id": "vHeSINqw2eh0",
        "outputId": "775b7094-913c-483a-d14c-01d3e5c72b4d"
      },
      "execution_count": 160,
      "outputs": [
        {
          "output_type": "display_data",
          "data": {
            "text/plain": [
              "plot without title"
            ],
            "image/png": "[encoded data removed]"
          },
          "metadata": {
            "image/png": {
              "width": 420,
              "height": 420
            }
          }
        }
      ]
    },
    {
      "cell_type": "markdown",
      "source": [
        "The above is the bar chart that shows the visualization of average salaries by experience levels.\n",
        "\n",
        "As expected, the mean and median salary increases when it gets to the executive level and decreases when it gets to the entry level."
      ],
      "metadata": {
        "id": "0rsrGXsDNdLx"
      }
    },
    {
      "cell_type": "markdown",
      "source": [
        "#### **Is there a point of diminishing returns regarding salary increase with more experience?**"
      ],
      "metadata": {
        "id": "T4UsZNotNwcz"
      }
    },
    {
      "cell_type": "markdown",
      "source": [
        "This question explores whether there's a limit or saturation point where the increase in salary slows down as an individual gains more experience in the data science field. As an individual who hopes to work in the data science field for a long time by gaining more experience, I’d like to know if there’s a point of diminishing returns regarding salary increase with more experience.\n",
        "\n",
        "I can calculate this by running a linear regression by dummy coding experience level. I would dummy code three experience level out of four to set the remaining one as a baseline.\n"
      ],
      "metadata": {
        "id": "ewkCcQ6NN1fw"
      }
    },
    {
      "cell_type": "code",
      "source": [
        "salarydata <- salarydata %>%\n",
        "  mutate(\n",
        "    is_mid = ifelse(experience_level == \"MI\", 1, 0),\n",
        "    is_senior = ifelse(experience_level == \"SE\", 1, 0),\n",
        "    is_executive = ifelse(experience_level == \"EX\", 1, 0)\n",
        "  )"
      ],
      "metadata": {
        "id": "9_tpbXnDk1lC"
      },
      "execution_count": 161,
      "outputs": []
    },
    {
      "cell_type": "markdown",
      "source": [
        "My baseline is **EN (Entry Level)**, and below is the regression result."
      ],
      "metadata": {
        "id": "tQG8UriGOI4x"
      }
    },
    {
      "cell_type": "code",
      "source": [
        "lm_model <- lm(salary_in_usd ~ is_mid + is_senior + is_executive, data = salarydata)\n",
        "summary(lm_model)"
      ],
      "metadata": {
        "colab": {
          "base_uri": "https://localhost:8080/",
          "height": 397
        },
        "id": "CHGfzc7sk9jW",
        "outputId": "e7337878-7262-48f5-d451-1af67eea4bb8"
      },
      "execution_count": 163,
      "outputs": [
        {
          "output_type": "display_data",
          "data": {
            "text/plain": [
              "\n",
              "Call:\n",
              "lm(formula = salary_in_usd ~ is_mid + is_senior + is_executive, \n",
              "    data = salarydata)\n",
              "\n",
              "Residuals:\n",
              "    Min      1Q  Median      3Q     Max \n",
              "-179931  -38295   -6096   32605  344903 \n",
              "\n",
              "Coefficients:\n",
              "             Estimate Std. Error t value Pr(>|t|)    \n",
              "(Intercept)     80146       3177  25.224  < 2e-16 ***\n",
              "is_mid          24952       3748   6.658 3.18e-11 ***\n",
              "is_senior       73150       3370  21.709  < 2e-16 ***\n",
              "is_executive   114785       6149  18.666  < 2e-16 ***\n",
              "---\n",
              "Signif. codes:  0 ‘***’ 0.001 ‘**’ 0.01 ‘*’ 0.05 ‘.’ 0.1 ‘ ’ 1\n",
              "\n",
              "Residual standard error: 56210 on 3734 degrees of freedom\n",
              "Multiple R-squared:  0.1957,\tAdjusted R-squared:  0.195 \n",
              "F-statistic: 302.8 on 3 and 3734 DF,  p-value: < 2.2e-16\n"
            ]
          },
          "metadata": {}
        }
      ]
    },
    {
      "cell_type": "markdown",
      "source": [
        "P-value is less than 0.05, meaning there’s a significant relationship between salary and experience level.\n",
        "\n",
        "The coefficients for 'is_mid', 'is_senior', and 'is_executive' indicate the average change in salary compared to the reference level.\n",
        "\n",
        "A positive coefficient indicates an increase in salary relative to the reference category.\n",
        "\n",
        "\n",
        "\n",
        "> *Incremental Change*\n",
        "\n",
        "\n",
        "To examine if there's a point of diminishing returns, we evaluate the coefficient values for each experience level dummy variable ('is_mid', 'is_senior', 'is_executive').\n",
        "\n",
        "Here, I would examine the incremental change in salary from 'Mid' to 'Senior' and 'Senior' to 'Executive'. A significant drop in the incremental increase could indicate diminishing returns.\n",
        "\n",
        "Incremental change in salary from 'Mid' to 'Senior' is 48,198, 'Senior' to 'Executive' is 41,635. While there is not a significant drop, **there’s a diminishing return** when it goes from Senior to Executive as there is a *drop* in the incremental increase from **‘Senior’ to ‘Executive’**.\n"
      ],
      "metadata": {
        "id": "Tm5Bzm7YOBS-"
      }
    },
    {
      "cell_type": "markdown",
      "source": [
        "### **Job Title**\n",
        "\n"
      ],
      "metadata": {
        "id": "itM78RqvO5jw"
      }
    },
    {
      "cell_type": "code",
      "source": [
        "job_title_frequency <- table(salarydata$job_title)\n",
        "job_title_df <- as.data.frame(job_title_frequency)\n",
        "sorted_job_titles <- job_title_df[order(-job_title_df$Freq), ]\n",
        "top_three_job_titles <- head(sorted_job_titles, 3)\n",
        "print(top_three_job_titles)"
      ],
      "metadata": {
        "colab": {
          "base_uri": "https://localhost:8080/"
        },
        "id": "REOWAsg5hEDt",
        "outputId": "394a453b-e36f-4b20-bf98-7dabea436a12"
      },
      "execution_count": 164,
      "outputs": [
        {
          "output_type": "stream",
          "name": "stdout",
          "text": [
            "             Var1 Freq\n",
            "34  Data Engineer 1037\n",
            "48 Data Scientist  836\n",
            "26   Data Analyst  610\n"
          ]
        }
      ]
    },
    {
      "cell_type": "markdown",
      "source": [
        "The top three frequent jobs in this dataset are **data engineer**, **data scientist** and **data analyst**.\n",
        "\n",
        "I’d like to see: most frequent working location, mean salary based on experience & employment type within each three job titles."
      ],
      "metadata": {
        "id": "6o2LlNZd6jzL"
      }
    },
    {
      "cell_type": "markdown",
      "source": [
        "\n",
        "\n",
        "> **The most frequent working location**\n",
        "\n",
        "\n"
      ],
      "metadata": {
        "id": "b6Jmzo6zPjZa"
      }
    },
    {
      "cell_type": "code",
      "source": [
        "top_jobs_data <- salarydata %>%\n",
        "  filter(job_title %in% c(\"Data Engineer\", \"Data Scientist\", \"Data Analyst\"))"
      ],
      "metadata": {
        "id": "q_XGY56_6ilj"
      },
      "execution_count": 165,
      "outputs": []
    },
    {
      "cell_type": "code",
      "source": [
        "most_frequent_location <- top_jobs_data %>%\n",
        "  group_by(job_title) %>%\n",
        "  summarise(Most_Frequent_Location = names(which.max(table(company_location))))"
      ],
      "metadata": {
        "id": "RA_gm74Z6yK-"
      },
      "execution_count": 166,
      "outputs": []
    },
    {
      "cell_type": "code",
      "source": [
        "print(most_frequent_location)"
      ],
      "metadata": {
        "colab": {
          "base_uri": "https://localhost:8080/"
        },
        "id": "OjExWwh-675t",
        "outputId": "f7f5fd31-2286-49d2-eaba-6b92ccceea73"
      },
      "execution_count": 167,
      "outputs": [
        {
          "output_type": "stream",
          "name": "stdout",
          "text": [
            "\u001b[90m# A tibble: 3 × 2\u001b[39m\n",
            "  job_title      Most_Frequent_Location\n",
            "  \u001b[3m\u001b[90m<chr>\u001b[39m\u001b[23m          \u001b[3m\u001b[90m<chr>\u001b[39m\u001b[23m                 \n",
            "\u001b[90m1\u001b[39m Data Analyst   US                    \n",
            "\u001b[90m2\u001b[39m Data Engineer  US                    \n",
            "\u001b[90m3\u001b[39m Data Scientist US                    \n"
          ]
        }
      ]
    },
    {
      "cell_type": "markdown",
      "source": [
        "The most frequent working location for all three job titles is the U.S."
      ],
      "metadata": {
        "id": "RU-6f_AcPcFc"
      }
    },
    {
      "cell_type": "markdown",
      "source": [
        "> **Mean salary based on experience & employment type for each job title: Data Engineer, Data Scientist and Data Analyst**"
      ],
      "metadata": {
        "id": "VKBs7C4MaD_s"
      }
    },
    {
      "cell_type": "code",
      "source": [
        "# Filter data for the specified job titles\n",
        "specific_jobs_data <- salarydata %>%\n",
        "  filter(job_title %in% c(\"Data Engineer\", \"Data Scientist\", \"Data Analyst\"))\n",
        "\n",
        "# Calculate mean salary for each job title, experience level, and employment type\n",
        "mean_salary_by_job <- specific_jobs_data %>%\n",
        "  group_by(job_title, experience_level, employment_type) %>%\n",
        "  summarise(Mean_Salary = mean(salary_in_usd))\n",
        "\n",
        "# Display the mean salary for each job title, experience level, and employment type\n",
        "print(mean_salary_by_job)"
      ],
      "metadata": {
        "colab": {
          "base_uri": "https://localhost:8080/"
        },
        "id": "-bclEw66d-ST",
        "outputId": "82842e8b-f3af-4fbf-e361-bdc27dbb856f"
      },
      "execution_count": 168,
      "outputs": [
        {
          "output_type": "stream",
          "name": "stderr",
          "text": [
            "\u001b[1m\u001b[22m`summarise()` has grouped output by 'job_title', 'experience_level'. You can\n",
            "override using the `.groups` argument.\n"
          ]
        },
        {
          "output_type": "stream",
          "name": "stdout",
          "text": [
            "\u001b[90m# A tibble: 18 × 4\u001b[39m\n",
            "\u001b[90m# Groups:   job_title, experience_level [12]\u001b[39m\n",
            "   job_title      experience_level employment_type Mean_Salary\n",
            "   \u001b[3m\u001b[90m<chr>\u001b[39m\u001b[23m          \u001b[3m\u001b[90m<fct>\u001b[39m\u001b[23m            \u001b[3m\u001b[90m<chr>\u001b[39m\u001b[23m                 \u001b[3m\u001b[90m<dbl>\u001b[39m\u001b[23m\n",
            "\u001b[90m 1\u001b[39m Data Analyst   EN               FT                   \u001b[4m6\u001b[24m\u001b[4m2\u001b[24m253.\n",
            "\u001b[90m 2\u001b[39m Data Analyst   EN               PT                   \u001b[4m4\u001b[24m\u001b[4m2\u001b[24m615.\n",
            "\u001b[90m 3\u001b[39m Data Analyst   MI               FT                  \u001b[4m1\u001b[24m\u001b[4m0\u001b[24m\u001b[4m2\u001b[24m094.\n",
            "\u001b[90m 4\u001b[39m Data Analyst   SE               CT                   \u001b[4m9\u001b[24m\u001b[4m0\u001b[24m000 \n",
            "\u001b[90m 5\u001b[39m Data Analyst   SE               FT                  \u001b[4m1\u001b[24m\u001b[4m2\u001b[24m\u001b[4m0\u001b[24m009.\n",
            "\u001b[90m 6\u001b[39m Data Analyst   EX               FT                  \u001b[4m1\u001b[24m\u001b[4m2\u001b[24m\u001b[4m0\u001b[24m000 \n",
            "\u001b[90m 7\u001b[39m Data Engineer  EN               FT                   \u001b[4m9\u001b[24m\u001b[4m1\u001b[24m527.\n",
            "\u001b[90m 8\u001b[39m Data Engineer  MI               FL                   \u001b[4m2\u001b[24m\u001b[4m0\u001b[24m000 \n",
            "\u001b[90m 9\u001b[39m Data Engineer  MI               FT                  \u001b[4m1\u001b[24m\u001b[4m0\u001b[24m\u001b[4m7\u001b[24m775.\n",
            "\u001b[90m10\u001b[39m Data Engineer  MI               PT                   \u001b[4m6\u001b[24m\u001b[4m1\u001b[24m137 \n",
            "\u001b[90m11\u001b[39m Data Engineer  SE               FT                  \u001b[4m1\u001b[24m\u001b[4m5\u001b[24m\u001b[4m3\u001b[24m389.\n",
            "\u001b[90m12\u001b[39m Data Engineer  EX               FT                  \u001b[4m2\u001b[24m\u001b[4m0\u001b[24m\u001b[4m9\u001b[24m921.\n",
            "\u001b[90m13\u001b[39m Data Scientist EN               FT                   \u001b[4m7\u001b[24m\u001b[4m3\u001b[24m918.\n",
            "\u001b[90m14\u001b[39m Data Scientist EN               PT                   \u001b[4m7\u001b[24m\u001b[4m7\u001b[24m223 \n",
            "\u001b[90m15\u001b[39m Data Scientist MI               FL                  \u001b[4m1\u001b[24m\u001b[4m0\u001b[24m\u001b[4m0\u001b[24m000 \n",
            "\u001b[90m16\u001b[39m Data Scientist MI               FT                   \u001b[4m9\u001b[24m\u001b[4m4\u001b[24m463.\n",
            "\u001b[90m17\u001b[39m Data Scientist SE               FT                  \u001b[4m1\u001b[24m\u001b[4m5\u001b[24m\u001b[4m9\u001b[24m591.\n",
            "\u001b[90m18\u001b[39m Data Scientist EX               FT                  \u001b[4m1\u001b[24m\u001b[4m8\u001b[24m\u001b[4m0\u001b[24m646.\n"
          ]
        }
      ]
    },
    {
      "cell_type": "code",
      "source": [
        "pivot_mean_salary <- pivot_wider(mean_salary_by_job, names_from = experience_level, values_from = Mean_Salary)\n",
        "print(pivot_mean_salary)"
      ],
      "metadata": {
        "colab": {
          "base_uri": "https://localhost:8080/"
        },
        "id": "-t6D9LXeeXiw",
        "outputId": "ce71cbe2-de2f-43f8-ecfb-5b83abb6c217"
      },
      "execution_count": 169,
      "outputs": [
        {
          "output_type": "stream",
          "name": "stdout",
          "text": [
            "\u001b[90m# A tibble: 9 × 6\u001b[39m\n",
            "\u001b[90m# Groups:   job_title [3]\u001b[39m\n",
            "  job_title      employment_type     EN      MI      SE      EX\n",
            "  \u001b[3m\u001b[90m<chr>\u001b[39m\u001b[23m          \u001b[3m\u001b[90m<chr>\u001b[39m\u001b[23m            \u001b[3m\u001b[90m<dbl>\u001b[39m\u001b[23m   \u001b[3m\u001b[90m<dbl>\u001b[39m\u001b[23m   \u001b[3m\u001b[90m<dbl>\u001b[39m\u001b[23m   \u001b[3m\u001b[90m<dbl>\u001b[39m\u001b[23m\n",
            "\u001b[90m1\u001b[39m Data Analyst   FT              \u001b[4m6\u001b[24m\u001b[4m2\u001b[24m253. \u001b[4m1\u001b[24m\u001b[4m0\u001b[24m\u001b[4m2\u001b[24m094. \u001b[4m1\u001b[24m\u001b[4m2\u001b[24m\u001b[4m0\u001b[24m009. \u001b[4m1\u001b[24m\u001b[4m2\u001b[24m\u001b[4m0\u001b[24m000 \n",
            "\u001b[90m2\u001b[39m Data Analyst   PT              \u001b[4m4\u001b[24m\u001b[4m2\u001b[24m615.     \u001b[31mNA\u001b[39m      \u001b[31mNA\u001b[39m      \u001b[31mNA\u001b[39m \n",
            "\u001b[90m3\u001b[39m Data Analyst   CT                 \u001b[31mNA\u001b[39m      \u001b[31mNA\u001b[39m   \u001b[4m9\u001b[24m\u001b[4m0\u001b[24m000      \u001b[31mNA\u001b[39m \n",
            "\u001b[90m4\u001b[39m Data Engineer  FT              \u001b[4m9\u001b[24m\u001b[4m1\u001b[24m527. \u001b[4m1\u001b[24m\u001b[4m0\u001b[24m\u001b[4m7\u001b[24m775. \u001b[4m1\u001b[24m\u001b[4m5\u001b[24m\u001b[4m3\u001b[24m389. \u001b[4m2\u001b[24m\u001b[4m0\u001b[24m\u001b[4m9\u001b[24m921.\n",
            "\u001b[90m5\u001b[39m Data Engineer  FL                 \u001b[31mNA\u001b[39m   \u001b[4m2\u001b[24m\u001b[4m0\u001b[24m000      \u001b[31mNA\u001b[39m      \u001b[31mNA\u001b[39m \n",
            "\u001b[90m6\u001b[39m Data Engineer  PT                 \u001b[31mNA\u001b[39m   \u001b[4m6\u001b[24m\u001b[4m1\u001b[24m137      \u001b[31mNA\u001b[39m      \u001b[31mNA\u001b[39m \n",
            "\u001b[90m7\u001b[39m Data Scientist FT              \u001b[4m7\u001b[24m\u001b[4m3\u001b[24m918.  \u001b[4m9\u001b[24m\u001b[4m4\u001b[24m463. \u001b[4m1\u001b[24m\u001b[4m5\u001b[24m\u001b[4m9\u001b[24m591. \u001b[4m1\u001b[24m\u001b[4m8\u001b[24m\u001b[4m0\u001b[24m646.\n",
            "\u001b[90m8\u001b[39m Data Scientist PT              \u001b[4m7\u001b[24m\u001b[4m7\u001b[24m223      \u001b[31mNA\u001b[39m      \u001b[31mNA\u001b[39m      \u001b[31mNA\u001b[39m \n",
            "\u001b[90m9\u001b[39m Data Scientist FL                 \u001b[31mNA\u001b[39m  \u001b[4m1\u001b[24m\u001b[4m0\u001b[24m\u001b[4m0\u001b[24m000      \u001b[31mNA\u001b[39m      \u001b[31mNA\u001b[39m \n"
          ]
        }
      ]
    },
    {
      "cell_type": "markdown",
      "source": [
        "The above result is the mean salary filtered out by experience level and employment type for Data Analyst, Data Engineer and Data Scientist roles.\n",
        "\n",
        "One employment type is missing from each job title; Data Analyst is missing **FL (Freelancers)**, Data Engineer and Data Scientist is missing **CT (Contract)**."
      ],
      "metadata": {
        "id": "VNseFhdNQEF7"
      }
    },
    {
      "cell_type": "code",
      "source": [
        "ggplot(mean_salary_by_job, aes(x = employment_type, y = Mean_Salary, fill = experience_level)) +\n",
        "  geom_bar(stat = \"identity\", position = \"dodge\") +\n",
        "  facet_wrap(~job_title, scales = \"free\") +\n",
        "  scale_y_continuous(breaks = seq(0, 225000, by = 25000), limits = c(0, 225000))\n",
        "  labs(x = \"Employment Type\", y = \"Mean Salary\", title = \"Mean Salary by Job Title, Experience Level, and Employment Type\")"
      ],
      "metadata": {
        "colab": {
          "base_uri": "https://localhost:8080/",
          "height": 636
        },
        "id": "wYSpwdTxek2T",
        "outputId": "ad8c889b-7e04-4d4d-abd9-1d0fabd0830e"
      },
      "execution_count": 170,
      "outputs": [
        {
          "output_type": "display_data",
          "data": {
            "text/plain": [
              "$x\n",
              "[1] \"Employment Type\"\n",
              "\n",
              "$y\n",
              "[1] \"Mean Salary\"\n",
              "\n",
              "$title\n",
              "[1] \"Mean Salary by Job Title, Experience Level, and Employment Type\"\n",
              "\n",
              "attr(,\"class\")\n",
              "[1] \"labels\""
            ]
          },
          "metadata": {}
        },
        {
          "output_type": "display_data",
          "data": {
            "text/plain": [
              "plot without title"
            ],
            "image/png": "[encoded data removed]"
          },
          "metadata": {
            "image/png": {
              "width": 420,
              "height": 420
            }
          }
        }
      ]
    },
    {
      "cell_type": "markdown",
      "source": [
        "To make it more visual, this bar chart depicts the result of the pivot table above.\n",
        "\n",
        "We can know from this bar chart that **Full-Time Data Engineers** earn the **highest** average salary on all experience levels compared to other two job titles.\n",
        "\n",
        "*Interestingly*, between part time mid-level data engineers and part time entry-level data scientists, data scientists earn higher than the data engineers. When it comes to freelancers, we can see that mid-level data scientists earn way higher than mid-level data engineers."
      ],
      "metadata": {
        "id": "QUUQ685-QV5O"
      }
    },
    {
      "cell_type": "markdown",
      "source": [
        "### **Remote Ratio**"
      ],
      "metadata": {
        "id": "X3iRQtfo1fbo"
      }
    },
    {
      "cell_type": "markdown",
      "source": [
        "Now, I would like to examine the relationship between remote work ratio and salary."
      ],
      "metadata": {
        "id": "E2_mV8lRV3qD"
      }
    },
    {
      "cell_type": "code",
      "source": [
        "ggplot(salarydata, aes(x = factor(remote_ratio), y = salary_in_usd, fill = factor(remote_ratio))) +\n",
        "  stat_summary(fun = \"mean\", geom = \"bar\", position = \"dodge\") +\n",
        "  labs(title = \"Relationship between Average Salary and Remote Work Ratio\",\n",
        "       x = \"Remote Work Ratio\",\n",
        "       y = \"Average Salary\") +\n",
        "  scale_x_discrete(labels = c(\"0\" = \"0%\", \"50\" = \"50%\", \"100\" = \"100%\")) +\n",
        "  scale_y_continuous(labels = scales::comma) +\n",
        "  scale_fill_brewer(palette = \"Set3\") +\n",
        "  theme_minimal()"
      ],
      "metadata": {
        "colab": {
          "base_uri": "https://localhost:8080/",
          "height": 437
        },
        "id": "Wmn6Fkvg2Dtq",
        "outputId": "5dd3b35d-9d00-4234-80d8-84418bf64652"
      },
      "execution_count": 171,
      "outputs": [
        {
          "output_type": "display_data",
          "data": {
            "text/plain": [
              "plot without title"
            ],
            "image/png": "[encoded data removed]"
          },
          "metadata": {
            "image/png": {
              "width": 420,
              "height": 420
            }
          }
        }
      ]
    },
    {
      "cell_type": "markdown",
      "source": [
        "This group bar chart shows the relationship between average salary and remote work ratio.\n",
        "\n",
        "This shows an interesting result as the average salary of the remote ratio of **50%** is the **lowest** out of all remote ratios (0%, 50%, 100%).\n",
        "\n",
        "I set up one possibility as due to the data size difference between the percentage levels and having more part time ratio in remote percentage of 50%."
      ],
      "metadata": {
        "id": "8pB6TSP57GUu"
      }
    },
    {
      "cell_type": "markdown",
      "source": [
        "\n",
        "> **Data size**\n",
        "\n"
      ],
      "metadata": {
        "id": "V7dCkGs0WYvG"
      }
    },
    {
      "cell_type": "code",
      "source": [
        "count_remote_ratio_50 <- sum(salarydata$remote_ratio == 50)\n",
        "print(count_remote_ratio_50)"
      ],
      "metadata": {
        "colab": {
          "base_uri": "https://localhost:8080/"
        },
        "id": "cN1SYSHQ4zPo",
        "outputId": "38483c98-3a6d-4978-a771-a941f8b17879"
      },
      "execution_count": 172,
      "outputs": [
        {
          "output_type": "stream",
          "name": "stdout",
          "text": [
            "[1] 186\n"
          ]
        }
      ]
    },
    {
      "cell_type": "code",
      "source": [
        "count_remote_ratio_0 <- sum(salarydata$remote_ratio == 0)\n",
        "print(count_remote_ratio_0)"
      ],
      "metadata": {
        "colab": {
          "base_uri": "https://localhost:8080/"
        },
        "id": "rytHRoON45nr",
        "outputId": "42b007e7-ddd6-4dec-ae9d-da715890d687"
      },
      "execution_count": 173,
      "outputs": [
        {
          "output_type": "stream",
          "name": "stdout",
          "text": [
            "[1] 1917\n"
          ]
        }
      ]
    },
    {
      "cell_type": "code",
      "source": [
        "count_remote_ratio_100 <- sum(salarydata$remote_ratio == 100)\n",
        "print(count_remote_ratio_100)"
      ],
      "metadata": {
        "colab": {
          "base_uri": "https://localhost:8080/"
        },
        "id": "4b50xHSR5vBT",
        "outputId": "c5ed4552-4f58-4bdd-ac8f-b9394ffac167"
      },
      "execution_count": 174,
      "outputs": [
        {
          "output_type": "stream",
          "name": "stdout",
          "text": [
            "[1] 1635\n"
          ]
        }
      ]
    },
    {
      "cell_type": "markdown",
      "source": [
        "Remote ratio of 50% has the lowest amount of data."
      ],
      "metadata": {
        "id": "XbrpvJN37U_P"
      }
    },
    {
      "cell_type": "markdown",
      "source": [
        "> **Employment Type Ratio**"
      ],
      "metadata": {
        "id": "laIV2skrWke3"
      }
    },
    {
      "cell_type": "code",
      "source": [
        "subset_50_remote <- subset(salarydata, remote_ratio == 50)\n",
        "employment_counts_50_remote <- table(subset_50_remote$employment_type)\n",
        "print(employment_counts_50_remote)"
      ],
      "metadata": {
        "colab": {
          "base_uri": "https://localhost:8080/"
        },
        "id": "qFEq-WZ25gmg",
        "outputId": "fdcabf8a-b69d-40cc-a153-6e461cfe0afa"
      },
      "execution_count": 175,
      "outputs": [
        {
          "output_type": "stream",
          "name": "stdout",
          "text": [
            "\n",
            " CT  FL  FT  PT \n",
            "  1   4 173   8 \n"
          ]
        }
      ]
    },
    {
      "cell_type": "code",
      "source": [
        "subset_0_remote <- subset(salarydata, remote_ratio == 0)\n",
        "employment_counts_0_remote <- table(subset_0_remote$employment_type)\n",
        "print(employment_counts_0_remote)"
      ],
      "metadata": {
        "colab": {
          "base_uri": "https://localhost:8080/"
        },
        "id": "DqeLut0q5j8-",
        "outputId": "937ee0d8-06d0-4fdd-9843-e574d6fb4733"
      },
      "execution_count": 176,
      "outputs": [
        {
          "output_type": "stream",
          "name": "stdout",
          "text": [
            "\n",
            "  FL   FT \n",
            "   1 1916 \n"
          ]
        }
      ]
    },
    {
      "cell_type": "code",
      "source": [
        "subset_100_remote <- subset(salarydata, remote_ratio == 100)\n",
        "employment_counts_100_remote <- table(subset_100_remote$employment_type)\n",
        "print(employment_counts_100_remote)"
      ],
      "metadata": {
        "colab": {
          "base_uri": "https://localhost:8080/"
        },
        "id": "fR0qVBkc48xp",
        "outputId": "f3af0878-af19-40e5-dbbb-5ae013a9d0af"
      },
      "execution_count": 177,
      "outputs": [
        {
          "output_type": "stream",
          "name": "stdout",
          "text": [
            "\n",
            "  CT   FL   FT   PT \n",
            "   9    5 1612    9 \n"
          ]
        }
      ]
    },
    {
      "cell_type": "code",
      "source": [
        "FTratio50 = 173/186\n",
        "FTratio0 = 1916/1917\n",
        "FTratio100 = 1612/1635\n",
        "print(FTratio50)\n",
        "print(FTratio0)\n",
        "print(FTratio100)"
      ],
      "metadata": {
        "colab": {
          "base_uri": "https://localhost:8080/"
        },
        "id": "ZX6AGhyi70uv",
        "outputId": "48f02e5f-18c0-4ac2-ddba-ae3936e14461"
      },
      "execution_count": 178,
      "outputs": [
        {
          "output_type": "stream",
          "name": "stdout",
          "text": [
            "[1] 0.9301075\n",
            "[1] 0.9994784\n",
            "[1] 0.9859327\n"
          ]
        }
      ]
    },
    {
      "cell_type": "markdown",
      "source": [
        "Full-time ratio of 50% remote ratio is the lowest: 0.93.\n",
        "\n",
        "This leaves a possibility on why average salary is the lowest out of all remote ratios. At the same time, it leaves us possibility of remote work ratio of 50% in general earns less than fully remote and in-person job."
      ],
      "metadata": {
        "id": "xfpGWRSl7b7H"
      }
    },
    {
      "cell_type": "markdown",
      "source": [
        "### **Company Location**\n",
        "\n",
        "\n"
      ],
      "metadata": {
        "id": "tPO5jY8jW-6v"
      }
    },
    {
      "cell_type": "markdown",
      "source": [
        "I'd like to know how company location influence salaries.\n",
        "\n",
        "I'm going to conduct this by finding three highest vs. lowest paying countries for full-time jobs. For this analysis, I'm planning to collect data for each country that has more than 30 data rows to prevent the misrepresentation."
      ],
      "metadata": {
        "id": "GR6RdjOwXB4G"
      }
    },
    {
      "cell_type": "markdown",
      "source": [
        "\n",
        "\n",
        "> **Top three highest paying countries (FT)**\n",
        "\n"
      ],
      "metadata": {
        "id": "q3XyRvR0XubT"
      }
    },
    {
      "cell_type": "code",
      "source": [
        "# Filter data for full-time positions\n",
        "full_time_data <- salarydata %>%\n",
        "  filter(employment_type == \"FT\")\n",
        "\n",
        "# Grouping data by geographic region and calculating the count of data entries\n",
        "region_data_counts <- full_time_data %>%\n",
        "  group_by(employee_residence) %>%\n",
        "  summarise(Data_Count = n())\n",
        "\n",
        "# Filter regions with more than 30 data entries\n",
        "regions_with_30plus_data <- region_data_counts %>%\n",
        "  filter(Data_Count > 30) %>%\n",
        "  select(employee_residence)\n",
        "\n",
        "# Filter full-time data for regions with more than 50 data entries\n",
        "full_time_data_30plus <- full_time_data %>%\n",
        "  filter(employee_residence %in% regions_with_30plus_data$employee_residence)\n",
        "\n",
        "# Calculate average salaries for full-time jobs in regions with more than 50 data entries\n",
        "region_salaries_30plus <- full_time_data_30plus %>%\n",
        "  group_by(employee_residence) %>%\n",
        "  summarise(Average_Salary = mean(salary_in_usd, na.rm = TRUE)) %>%\n",
        "  arrange(desc(Average_Salary))\n",
        "\n",
        "# Identify high-paying and low-paying areas\n",
        "highest_paying_30plus <- head(region_salaries_30plus, 3)\n",
        "\n",
        "# Display the results\n",
        "cat(\"Top 3 High-Paying Areas for Full-Time Jobs (with >30 data entries):\\n\")\n",
        "print(highest_paying_30plus)"
      ],
      "metadata": {
        "colab": {
          "base_uri": "https://localhost:8080/"
        },
        "id": "hQGYDKu4HtYu",
        "outputId": "271ee095-8c48-41a7-d3af-3f070a360c4a"
      },
      "execution_count": 179,
      "outputs": [
        {
          "output_type": "stream",
          "name": "stdout",
          "text": [
            "Top 3 High-Paying Areas for Full-Time Jobs (with >30 data entries):\n",
            "\u001b[90m# A tibble: 3 × 2\u001b[39m\n",
            "  employee_residence Average_Salary\n",
            "  \u001b[3m\u001b[90m<chr>\u001b[39m\u001b[23m                       \u001b[3m\u001b[90m<dbl>\u001b[39m\u001b[23m\n",
            "\u001b[90m1\u001b[39m US                        \u001b[4m1\u001b[24m\u001b[4m5\u001b[24m\u001b[4m3\u001b[24m117.\n",
            "\u001b[90m2\u001b[39m CA                        \u001b[4m1\u001b[24m\u001b[4m3\u001b[24m\u001b[4m2\u001b[24m607.\n",
            "\u001b[90m3\u001b[39m DE                         \u001b[4m9\u001b[24m\u001b[4m7\u001b[24m404.\n"
          ]
        }
      ]
    },
    {
      "cell_type": "markdown",
      "source": [
        "The top three high-paying areas for full-time jobs are **1. US (United States), 2. CA (Canada), 3. DE (Germany)**."
      ],
      "metadata": {
        "id": "945d_pLBX7kn"
      }
    },
    {
      "cell_type": "markdown",
      "source": [
        "\n",
        "\n",
        "> **Top three lowest paying countries (FT)**\n",
        "\n"
      ],
      "metadata": {
        "id": "SHWxB_eZXyWO"
      }
    },
    {
      "cell_type": "code",
      "source": [
        "# Filter data for full-time positions\n",
        "full_time_data <- salarydata %>%\n",
        "  filter(employment_type == \"FT\")\n",
        "\n",
        "# Grouping data by geographic region and calculating the count of data entries\n",
        "region_data_counts <- full_time_data %>%\n",
        "  group_by(employee_residence) %>%\n",
        "  summarise(Data_Count = n())\n",
        "\n",
        "# Filter regions with more than 30 data entries\n",
        "regions_with_30plus_data <- region_data_counts %>%\n",
        "  filter(Data_Count > 30) %>%\n",
        "  select(employee_residence)\n",
        "\n",
        "# Filter full-time data for regions with more than 30 data entries\n",
        "full_time_data_30plus <- full_time_data %>%\n",
        "  filter(employee_residence %in% regions_with_30plus_data$employee_residence)\n",
        "\n",
        "# Calculate average salaries for full-time jobs in regions with more than 30 data entries\n",
        "region_salaries_30plus <- full_time_data_30plus %>%\n",
        "  group_by(employee_residence) %>%\n",
        "  summarise(Average_Salary = mean(salary_in_usd, na.rm = TRUE)) %>%\n",
        "  arrange(Average_Salary)  # Arrange in ascending order for lowest-paying areas\n",
        "\n",
        "# Identify lowest-paying areas (bottom 3)\n",
        "lowest_paying_30plus <- head(region_salaries_30plus, 3)\n",
        "\n",
        "# Display the results for lowest-paying areas\n",
        "cat(\"Bottom 3 Low-Paying Areas for Full-Time Jobs (with >30 data entries):\\n\")\n",
        "print(lowest_paying_30plus)"
      ],
      "metadata": {
        "colab": {
          "base_uri": "https://localhost:8080/"
        },
        "id": "lAXUFkvuGAAA",
        "outputId": "70fdb3ff-3053-4f18-a668-c30beea32334"
      },
      "execution_count": 180,
      "outputs": [
        {
          "output_type": "stream",
          "name": "stdout",
          "text": [
            "Bottom 3 Low-Paying Areas for Full-Time Jobs (with >30 data entries):\n",
            "\u001b[90m# A tibble: 3 × 2\u001b[39m\n",
            "  employee_residence Average_Salary\n",
            "  \u001b[3m\u001b[90m<chr>\u001b[39m\u001b[23m                       \u001b[3m\u001b[90m<dbl>\u001b[39m\u001b[23m\n",
            "\u001b[90m1\u001b[39m IN                         \u001b[4m3\u001b[24m\u001b[4m9\u001b[24m919.\n",
            "\u001b[90m2\u001b[39m FR                         \u001b[4m6\u001b[24m\u001b[4m1\u001b[24m492.\n",
            "\u001b[90m3\u001b[39m ES                         \u001b[4m6\u001b[24m\u001b[4m1\u001b[24m558.\n"
          ]
        }
      ]
    },
    {
      "cell_type": "markdown",
      "source": [
        "The top three low-paying areas for full-time jobs are **1. IN (India), 2. FR (France), 3. ES (Spain)**."
      ],
      "metadata": {
        "id": "3iSUmAmBYYEH"
      }
    },
    {
      "cell_type": "markdown",
      "source": [
        "### **Company Size**"
      ],
      "metadata": {
        "id": "iyA6oF21Ah1Z"
      }
    },
    {
      "cell_type": "markdown",
      "source": [
        "I'd like to know how company size influence salaries."
      ],
      "metadata": {
        "id": "gw4GVGkyWyQW"
      }
    },
    {
      "cell_type": "code",
      "source": [
        "salary_size <- salarydata %>%\n",
        "  group_by(company_size) %>%\n",
        "  summarise(Average_Salary = mean(salary_in_usd, na.rm = TRUE)) %>%\n",
        "  arrange(desc(Average_Salary)) %>%\n",
        "  top_n(3)\n",
        "print(salary_size)"
      ],
      "metadata": {
        "colab": {
          "base_uri": "https://localhost:8080/"
        },
        "id": "a0ewN_0GAdEf",
        "outputId": "89e9d606-65a2-40e8-eae4-d7f2b7643872"
      },
      "execution_count": 181,
      "outputs": [
        {
          "output_type": "stream",
          "name": "stderr",
          "text": [
            "\u001b[1m\u001b[22mSelecting by Average_Salary\n"
          ]
        },
        {
          "output_type": "stream",
          "name": "stdout",
          "text": [
            "\u001b[90m# A tibble: 3 × 2\u001b[39m\n",
            "  company_size Average_Salary\n",
            "  \u001b[3m\u001b[90m<chr>\u001b[39m\u001b[23m                 \u001b[3m\u001b[90m<dbl>\u001b[39m\u001b[23m\n",
            "\u001b[90m1\u001b[39m M                   \u001b[4m1\u001b[24m\u001b[4m4\u001b[24m\u001b[4m3\u001b[24m388.\n",
            "\u001b[90m2\u001b[39m L                   \u001b[4m1\u001b[24m\u001b[4m1\u001b[24m\u001b[4m9\u001b[24m285.\n",
            "\u001b[90m3\u001b[39m S                    \u001b[4m8\u001b[24m\u001b[4m1\u001b[24m226.\n"
          ]
        }
      ]
    },
    {
      "cell_type": "code",
      "source": [
        "ggplot(salary_size, aes(x = reorder(company_size, Average_Salary), y = Average_Salary)) +\n",
        "  geom_col(fill = \"skyblue\") +\n",
        "  labs(title = \"Company Sizes with Highest Average Salaries\",\n",
        "       x = \"Company Size\",\n",
        "       y = \"Average Salary\") +\n",
        "  coord_flip() +\n",
        "  theme_minimal()"
      ],
      "metadata": {
        "colab": {
          "base_uri": "https://localhost:8080/",
          "height": 437
        },
        "id": "HyABGpKcBEWg",
        "outputId": "f858c826-8297-44a7-a733-372e9da7047a"
      },
      "execution_count": 182,
      "outputs": [
        {
          "output_type": "display_data",
          "data": {
            "text/plain": [
              "plot without title"
            ],
            "image/png": "[encoded data removed]"
          },
          "metadata": {
            "image/png": {
              "width": 420,
              "height": 420
            }
          }
        }
      ]
    },
    {
      "cell_type": "markdown",
      "source": [
        "Employees who work at **medium** sized companies have the *highest* average salary, and who work at **small** sized companies have the *lowest* average salary."
      ],
      "metadata": {
        "id": "ycfi1pQvXGKu"
      }
    },
    {
      "cell_type": "markdown",
      "source": [
        "### **Work Year**\n"
      ],
      "metadata": {
        "id": "YpK68aLZAtEl"
      }
    },
    {
      "cell_type": "markdown",
      "source": [
        "\n",
        "I'd like to find trends in salaries over the years."
      ],
      "metadata": {
        "id": "nuvLYcxHY3W2"
      }
    },
    {
      "cell_type": "code",
      "source": [
        "salary_year <- salarydata %>%\n",
        "  group_by(work_year) %>%\n",
        "  summarise(Average_Salary = mean(salary_in_usd, na.rm = TRUE))"
      ],
      "metadata": {
        "id": "kFxFYHFKDHcM"
      },
      "execution_count": 183,
      "outputs": []
    },
    {
      "cell_type": "code",
      "source": [
        "ggplot(salary_year, aes(x = as.factor(work_year), y = Average_Salary)) +\n",
        "  geom_bar(stat = \"identity\", fill = \"skyblue\") +\n",
        "  geom_text(aes(label = sprintf(\"$%.2f\", Average_Salary)), vjust = -0.5, size = 3, color = \"black\") +\n",
        "  labs(title = \"Salary Trends Over the Years\",\n",
        "       x = \"Year\",\n",
        "       y = \"Average Salary\") +\n",
        "  theme_minimal()"
      ],
      "metadata": {
        "colab": {
          "base_uri": "https://localhost:8080/",
          "height": 437
        },
        "id": "E1uA_NF2EE1P",
        "outputId": "9ed04f9f-881b-4253-f62a-393ecaa46542"
      },
      "execution_count": 184,
      "outputs": [
        {
          "output_type": "display_data",
          "data": {
            "text/plain": [
              "plot without title"
            ],
            "image/png": "[encoded data removed]"
          },
          "metadata": {
            "image/png": {
              "width": 420,
              "height": 420
            }
          }
        }
      ]
    },
    {
      "cell_type": "markdown",
      "source": [
        "From 2020 to 2021, the average salary dropped by 595.47.\n",
        "\n",
        "[\"2021 has been a year with a lot of disruption and change due to impact of covid, including in the data engineering space. In addition to COVID-19’s impact on the hiring market (and economy at large)...\"](https://artecha.com/impact-of-covid/)\n",
        "\n",
        "Due to the impact of COVID-19, it is reasonable to assume that the average salary has dropped due to disruption and change."
      ],
      "metadata": {
        "id": "2_enz210Y608"
      }
    },
    {
      "cell_type": "markdown",
      "source": [
        "On the other hand, we can see steady increase from year 2021 to 2022, and 2022 to 2023. It is reasonable to assume that the average salary for jobs in data science field will be increasing in the future."
      ],
      "metadata": {
        "id": "0PQITQF-ZuT3"
      }
    },
    {
      "cell_type": "markdown",
      "source": [
        "## ***Limitations***"
      ],
      "metadata": {
        "id": "B-BrF5lwaMPX"
      }
    },
    {
      "cell_type": "markdown",
      "source": [
        "### **1. Employment Type**"
      ],
      "metadata": {
        "id": "oFer5bEBaszY"
      }
    },
    {
      "cell_type": "markdown",
      "source": [
        "The reported full-time salary might have been internship roles, which was why some of the data were reported as low.\n",
        "\n",
        "I deleted outlier data in order to elevate the accuracy representation in the data cleaning process, however it would have been better if the data included the status of the job: whether it’s full-time job or internship in full-time employment type column."
      ],
      "metadata": {
        "id": "-RqF27UWahnn"
      }
    },
    {
      "cell_type": "markdown",
      "source": [
        "### **2. Countries & Currency Conversion**"
      ],
      "metadata": {
        "id": "e9GCE1uBa4pI"
      }
    },
    {
      "cell_type": "markdown",
      "source": [
        "In the data cleaning process, I have mentioned about countries with lower average salaries for data science jobs.\n",
        "\n",
        "The analysis might have been more accurate if I only combined data other than those countries as they may be considered as outliers for the overall result.\n",
        "\n",
        "Also, currency conversion might not accurately reflect the real-time exchange rates or purchasing power parity, affecting cross-country salary comparisons."
      ],
      "metadata": {
        "id": "uFxdvwqza9dP"
      }
    },
    {
      "cell_type": "markdown",
      "source": [
        "### **3. Biased Data & Limited Context**"
      ],
      "metadata": {
        "id": "RYCT2vJ6cPXT"
      }
    },
    {
      "cell_type": "markdown",
      "source": [
        "The dataset might not represent all regions, job titles, or employment types equally. These biased data can skew conclusions.\n",
        "\n",
        "Plus, lack of additional context, such as job responsibilities, years of experience, or educational qualifications, could limit the depth of analysis."
      ],
      "metadata": {
        "id": "yp9wlGfacSOn"
      }
    },
    {
      "cell_type": "markdown",
      "source": [
        "### **4. Job Title Variations**"
      ],
      "metadata": {
        "id": "fN9qm0Hwc9ci"
      }
    },
    {
      "cell_type": "markdown",
      "source": [
        "Job titles might vary across countries or companies, making direct comparisons challenging. An ambiguous job title might encompass different roles and responsibilities.\n",
        "\n",
        "To take data scientist for instance, there were various job titles that can be considered as data scientist jobs, such as Applied Data Scientist, Director of Data Science, Principal Data Scientist, and so on. The analysis might have shown higher accuracy if the variation in job titles were less than 10."
      ],
      "metadata": {
        "id": "bb0TN0l_c6TJ"
      }
    }
  ]
}